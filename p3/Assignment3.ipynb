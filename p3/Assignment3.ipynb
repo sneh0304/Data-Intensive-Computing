{
 "cells": [
  {
   "cell_type": "code",
   "execution_count": 1,
   "metadata": {},
   "outputs": [],
   "source": [
    "import findspark"
   ]
  },
  {
   "cell_type": "code",
   "execution_count": 2,
   "metadata": {},
   "outputs": [],
   "source": [
    "findspark.init('spark-2.4.0-bin-hadoop2.7')"
   ]
  },
  {
   "cell_type": "code",
   "execution_count": 3,
   "metadata": {},
   "outputs": [],
   "source": [
    "import pyspark\n",
    "\n",
    "sc = pyspark.SparkContext()"
   ]
  },
  {
   "cell_type": "code",
   "execution_count": 4,
   "metadata": {},
   "outputs": [],
   "source": [
    "from pyspark.sql import *\n",
    "\n",
    "spark = SparkSession.builder.appName('Assignment 3').config('spark.some.config.option', 'some-value').config(\"spark.driver.memory\", \"15g\").getOrCreate()"
   ]
  },
  {
   "cell_type": "markdown",
   "metadata": {},
   "source": [
    "# Loading datasets"
   ]
  },
  {
   "cell_type": "code",
   "execution_count": 5,
   "metadata": {},
   "outputs": [],
   "source": [
    "import pandas as pd\n",
    "\n",
    "df1 = pd.read_csv('./train.csv')\n",
    "df2 = pd.read_csv('./test.csv')"
   ]
  },
  {
   "cell_type": "code",
   "execution_count": 6,
   "metadata": {},
   "outputs": [],
   "source": [
    "train = spark.createDataFrame(df1)\n",
    "test = spark.createDataFrame(df2)"
   ]
  },
  {
   "cell_type": "markdown",
   "metadata": {},
   "source": [
    "# Removing all the characters except alphabets and tokenizing plots"
   ]
  },
  {
   "cell_type": "code",
   "execution_count": 7,
   "metadata": {},
   "outputs": [],
   "source": [
    "from pyspark.ml.feature import RegexTokenizer\n",
    "\n",
    "regexTokenizer = RegexTokenizer(inputCol = 'plot', outputCol = 'clean_plot', pattern = \"[^A-Za-z]\")\n",
    "regexTokenized_train = regexTokenizer.transform(train)\n",
    "regexTokenized_test = regexTokenizer.transform(test)\n"
   ]
  },
  {
   "cell_type": "markdown",
   "metadata": {},
   "source": [
    "# Removing stop-words"
   ]
  },
  {
   "cell_type": "code",
   "execution_count": 8,
   "metadata": {},
   "outputs": [],
   "source": [
    "from pyspark.ml.feature import StopWordsRemover\n",
    "\n",
    "remover = StopWordsRemover(inputCol= 'clean_plot', outputCol = 'filtered_plot')\n",
    "filtered_train = remover.transform(regexTokenized_train)\n",
    "filtered_test = remover.transform(regexTokenized_test)"
   ]
  },
  {
   "cell_type": "markdown",
   "metadata": {},
   "source": [
    "# Creating features: tf using CountVectorizer, tf-idf using HashingTF and IDF and for part 3 using Word2Vec"
   ]
  },
  {
   "cell_type": "code",
   "execution_count": 9,
   "metadata": {
    "scrolled": true
   },
   "outputs": [
    {
     "name": "stdout",
     "output_type": "stream",
     "text": [
      "done tf\n",
      "done tf-idf\n",
      "done word2vec\n"
     ]
    }
   ],
   "source": [
    "from pyspark.ml.feature import CountVectorizer, Word2Vec, IDF, HashingTF, CountVectorizerModel, IDFModel, Word2VecModel\n",
    "\n",
    "loadModel = True # make this variable false in-order to train a new model instead of loading a trained one\n",
    "\n",
    "if loadModel:\n",
    "    tfModel = CountVectorizerModel.load('models/tf_model')\n",
    "else:\n",
    "    cv = CountVectorizer(inputCol = 'filtered_plot', outputCol = 'features_tf', minDF = 5.0, vocabSize = 10000)\n",
    "    tfModel = cv.fit(filtered_train)\n",
    "    tfModel.save('tf_model')\n",
    "\n",
    "vectorized_train = tfModel.transform(filtered_train)\n",
    "vectorized_test = tfModel.transform(filtered_test)\n",
    "\n",
    "print('done tf')\n",
    "\n",
    "hashingTF = HashingTF(inputCol = \"filtered_plot\", outputCol = \"features_hash\")\n",
    "vectorized_train = hashingTF.transform(vectorized_train)\n",
    "vectorized_test = hashingTF.transform(vectorized_test)\n",
    "\n",
    "if loadModel:\n",
    "    idfModel = IDFModel.load('models/idf_model')\n",
    "else:\n",
    "    idf = IDF(minDocFreq = 5, inputCol = \"features_hash\", outputCol = \"features_tf-idf\")\n",
    "    idfModel = idf.fit(vectorized_train)\n",
    "    idfModel.save('idf_model')\n",
    "\n",
    "vectorized_train = idfModel.transform(vectorized_train)\n",
    "vectorized_test = idfModel.transform(vectorized_test)\n",
    "\n",
    "print('done tf-idf')\n",
    "\n",
    "if loadModel:\n",
    "    word2vecModel = Word2VecModel.load('models/word2vec_model')\n",
    "else:\n",
    "    word2Vec = Word2Vec(inputCol = \"filtered_plot\", outputCol = \"features_word2vec\", minCount = 20, vectorSize = 350)\n",
    "    word2vecModel = word2Vec.fit(vectorized_train)\n",
    "    word2vecModel.save('word2vec_model')\n",
    "\n",
    "vectorized_train = word2vecModel.transform(vectorized_train)\n",
    "vectorized_test = word2vecModel.transform(vectorized_test)\n",
    "print('done word2vec')\n"
   ]
  },
  {
   "cell_type": "code",
   "execution_count": 10,
   "metadata": {
    "scrolled": true
   },
   "outputs": [
    {
     "name": "stdout",
     "output_type": "stream",
     "text": [
      "root\n",
      " |-- movie_id: long (nullable = true)\n",
      " |-- movie_name: string (nullable = true)\n",
      " |-- plot: string (nullable = true)\n",
      " |-- genre: string (nullable = true)\n",
      " |-- clean_plot: array (nullable = true)\n",
      " |    |-- element: string (containsNull = true)\n",
      " |-- filtered_plot: array (nullable = true)\n",
      " |    |-- element: string (containsNull = true)\n",
      " |-- features_tf: vector (nullable = true)\n",
      " |-- features_hash: vector (nullable = true)\n",
      " |-- features_tf-idf: vector (nullable = true)\n",
      " |-- features_word2vec: vector (nullable = true)\n",
      "\n"
     ]
    }
   ],
   "source": [
    "vectorized_train.printSchema()"
   ]
  },
  {
   "cell_type": "markdown",
   "metadata": {},
   "source": [
    "# Converting the genre column from string to array of strings"
   ]
  },
  {
   "cell_type": "code",
   "execution_count": 11,
   "metadata": {},
   "outputs": [],
   "source": [
    "from pyspark.sql.functions import col, regexp_replace, split\n",
    "\n",
    "vectorized_train = vectorized_train.withColumn(\"genre1\", split(regexp_replace(col(\"genre\"), r\"(^\\[)|(\\]$)|(')\", \"\"), \", \"))"
   ]
  },
  {
   "cell_type": "code",
   "execution_count": 12,
   "metadata": {},
   "outputs": [
    {
     "name": "stdout",
     "output_type": "stream",
     "text": [
      "+--------------------------------------------------+\n",
      "|genre1                                            |\n",
      "+--------------------------------------------------+\n",
      "|[World cinema, Drama]                             |\n",
      "|[Action/Adventure, Action, Science Fiction, Drama]|\n",
      "|[Musical, Action, Drama]                          |\n",
      "|[Comedy]                                          |\n",
      "|[Crime Fiction, World cinema, Drama]              |\n",
      "+--------------------------------------------------+\n",
      "only showing top 5 rows\n",
      "\n"
     ]
    }
   ],
   "source": [
    "vectorized_train.select('genre1').show(5, truncate = False)"
   ]
  },
  {
   "cell_type": "markdown",
   "metadata": {},
   "source": [
    "# 20 different UDFs for creating 20 columns for 20 different genre"
   ]
  },
  {
   "cell_type": "code",
   "execution_count": 13,
   "metadata": {},
   "outputs": [],
   "source": [
    "from pyspark.sql.functions import udf\n",
    "\n",
    "@udf('double')\n",
    "def Drama(genres):\n",
    "    if 'Drama' in genres:\n",
    "        return 1.0\n",
    "    else: return 0.0\n",
    "    \n",
    "@udf('double')\n",
    "def Comedy(genres):\n",
    "    if 'Comedy' in genres:\n",
    "        return 1.0\n",
    "    else: return 0.0\n",
    "    \n",
    "@udf('double')\n",
    "def RomanceFilm(genres):\n",
    "    if 'Romance Film' in genres:\n",
    "        return 1.0\n",
    "    else: return 0.0\n",
    "    \n",
    "@udf('double')\n",
    "def Thriller(genres):\n",
    "    if 'Thriller' in genres:\n",
    "        return 1.0\n",
    "    else: return 0.0\n",
    "    \n",
    "@udf('double')\n",
    "def Action(genres):\n",
    "    if 'Action' in genres:\n",
    "        return 1.0\n",
    "    else: return 0.0\n",
    "    \n",
    "@udf('double')\n",
    "def WorldCinema(genres):\n",
    "    if 'World cinema' in genres:\n",
    "        return 1.0\n",
    "    else: return 0.0\n",
    "    \n",
    "@udf('double')\n",
    "def CrimeFiction(genres):\n",
    "    if 'Crime Fiction' in genres:\n",
    "        return 1.0\n",
    "    else: return 0.0\n",
    "    \n",
    "@udf('double')\n",
    "def Horror(genres):\n",
    "    if 'Horror' in genres:\n",
    "        return 1.0\n",
    "    else: return 0.0\n",
    "    \n",
    "@udf('double')\n",
    "def BlackWhite(genres):\n",
    "    if 'Black-and-white' in genres:\n",
    "        return 1.0\n",
    "    else: return 0.0\n",
    "    \n",
    "@udf('double')\n",
    "def Indie(genres):\n",
    "    if 'Indie' in genres:\n",
    "        return 1.0\n",
    "    else: return 0.0\n",
    "    \n",
    "@udf('double')\n",
    "def ActionAdventure(genres):\n",
    "    if 'Action/Adventure' in genres:\n",
    "        return 1.0\n",
    "    else: return 0.0\n",
    "    \n",
    "@udf('double')\n",
    "def Adventure(genres):\n",
    "    if 'Adventure' in genres:\n",
    "        return 1.0\n",
    "    else: return 0.0\n",
    "    \n",
    "@udf('double')\n",
    "def FamilyFilm(genres):\n",
    "    if 'Family Film' in genres:\n",
    "        return 1.0\n",
    "    else: return 0.0\n",
    "    \n",
    "@udf('double')\n",
    "def ShortFilm(genres):\n",
    "    if 'Short Film' in genres:\n",
    "        return 1.0\n",
    "    else: return 0.0\n",
    "    \n",
    "@udf('double')\n",
    "def RomanticDrama(genres):\n",
    "    if 'Romantic drama' in genres:\n",
    "        return 1.0\n",
    "    else: return 0.0\n",
    "    \n",
    "@udf('double')\n",
    "def Animation(genres):\n",
    "    if 'Animation' in genres:\n",
    "        return 1.0\n",
    "    else: return 0.0\n",
    "    \n",
    "@udf('double')\n",
    "def Musical(genres):\n",
    "    if 'Musical' in genres:\n",
    "        return 1.0\n",
    "    else: return 0.0\n",
    "    \n",
    "@udf('double')\n",
    "def ScienceFiction(genres):\n",
    "    if 'Science Fiction' in genres:\n",
    "        return 1.0\n",
    "    else: return 0.0\n",
    "    \n",
    "@udf('double')\n",
    "def Mystery(genres):\n",
    "    if 'Mystery' in genres:\n",
    "        return 1.0\n",
    "    else: return 0.0\n",
    "    \n",
    "@udf('double')\n",
    "def RomanticComedy(genres):\n",
    "    if 'Romantic comedy' in genres:\n",
    "        return 1.0\n",
    "    else: return 0.0\n"
   ]
  },
  {
   "cell_type": "markdown",
   "metadata": {},
   "source": [
    "# Creating 20 new columns for 20 genres"
   ]
  },
  {
   "cell_type": "code",
   "execution_count": 14,
   "metadata": {},
   "outputs": [],
   "source": [
    "a = vectorized_train.withColumn(\"Drama\", Drama(\"genre1\"))\n",
    "a = a.withColumn(\"Comedy\", Comedy(\"genre1\"))\n",
    "a = a.withColumn(\"RomanceFilm\", RomanceFilm(\"genre1\"))\n",
    "a = a.withColumn(\"Thriller\", Thriller(\"genre1\"))\n",
    "a = a.withColumn(\"Action\", Action(\"genre1\"))\n",
    "a = a.withColumn(\"WorldCinema\", WorldCinema(\"genre1\"))\n",
    "a = a.withColumn(\"CrimeFiction\", CrimeFiction(\"genre1\"))\n",
    "a = a.withColumn(\"Horror\", Horror(\"genre1\"))\n",
    "a = a.withColumn(\"BlackWhite\", BlackWhite(\"genre1\"))\n",
    "a = a.withColumn(\"Indie\", Indie(\"genre1\"))\n",
    "a = a.withColumn(\"ActionAdventure\", ActionAdventure(\"genre1\"))\n",
    "a = a.withColumn(\"Adventure\", Adventure(\"genre1\"))\n",
    "a = a.withColumn(\"FamilyFilm\", FamilyFilm(\"genre1\"))\n",
    "a = a.withColumn(\"ShortFilm\", ShortFilm(\"genre1\"))\n",
    "a = a.withColumn(\"RomanticDrama\", RomanticDrama(\"genre1\"))\n",
    "a = a.withColumn(\"Animation\", Animation(\"genre1\"))\n",
    "a = a.withColumn(\"Musical\", Musical(\"genre1\"))\n",
    "a = a.withColumn(\"ScienceFiction\", ScienceFiction(\"genre1\"))\n",
    "a = a.withColumn(\"Mystery\", Mystery(\"genre1\"))\n",
    "a = a.withColumn(\"RomanticComedy\", RomanticComedy(\"genre1\"))"
   ]
  },
  {
   "cell_type": "code",
   "execution_count": 15,
   "metadata": {},
   "outputs": [
    {
     "name": "stdout",
     "output_type": "stream",
     "text": [
      "root\n",
      " |-- movie_id: long (nullable = true)\n",
      " |-- movie_name: string (nullable = true)\n",
      " |-- plot: string (nullable = true)\n",
      " |-- genre: string (nullable = true)\n",
      " |-- clean_plot: array (nullable = true)\n",
      " |    |-- element: string (containsNull = true)\n",
      " |-- filtered_plot: array (nullable = true)\n",
      " |    |-- element: string (containsNull = true)\n",
      " |-- features_tf: vector (nullable = true)\n",
      " |-- features_hash: vector (nullable = true)\n",
      " |-- features_tf-idf: vector (nullable = true)\n",
      " |-- features_word2vec: vector (nullable = true)\n",
      " |-- genre1: array (nullable = true)\n",
      " |    |-- element: string (containsNull = true)\n",
      " |-- Drama: double (nullable = true)\n",
      " |-- Comedy: double (nullable = true)\n",
      " |-- RomanceFilm: double (nullable = true)\n",
      " |-- Thriller: double (nullable = true)\n",
      " |-- Action: double (nullable = true)\n",
      " |-- WorldCinema: double (nullable = true)\n",
      " |-- CrimeFiction: double (nullable = true)\n",
      " |-- Horror: double (nullable = true)\n",
      " |-- BlackWhite: double (nullable = true)\n",
      " |-- Indie: double (nullable = true)\n",
      " |-- ActionAdventure: double (nullable = true)\n",
      " |-- Adventure: double (nullable = true)\n",
      " |-- FamilyFilm: double (nullable = true)\n",
      " |-- ShortFilm: double (nullable = true)\n",
      " |-- RomanticDrama: double (nullable = true)\n",
      " |-- Animation: double (nullable = true)\n",
      " |-- Musical: double (nullable = true)\n",
      " |-- ScienceFiction: double (nullable = true)\n",
      " |-- Mystery: double (nullable = true)\n",
      " |-- RomanticComedy: double (nullable = true)\n",
      "\n"
     ]
    }
   ],
   "source": [
    "a.printSchema()"
   ]
  },
  {
   "cell_type": "markdown",
   "metadata": {},
   "source": [
    "# Part 1: Logistic regression using tf as features"
   ]
  },
  {
   "cell_type": "code",
   "execution_count": 16,
   "metadata": {
    "scrolled": true
   },
   "outputs": [
    {
     "name": "stdout",
     "output_type": "stream",
     "text": [
      "Prediction done for Drama genre\n",
      "Prediction done for Comedy genre\n",
      "Prediction done for Romance Film genre\n",
      "Prediction done for Thriller genre\n",
      "Prediction done for Action genre\n",
      "Prediction done for World cinema genre\n",
      "Prediction done for Crime Fiction genre\n",
      "Prediction done for Horror genre\n",
      "Prediction done for Black-and-white genre\n",
      "Prediction done for Indie genre\n",
      "Prediction done for Action/Adventure genre\n",
      "Prediction done for Adventure genre\n",
      "Prediction done for Family Film genre\n",
      "Prediction done for Short Film genre\n",
      "Prediction done for Romantic drama genre\n",
      "Prediction done for Animation genre\n",
      "Prediction done for Musical genre\n",
      "Prediction done for Science Fiction genre\n",
      "Prediction done for Mystery genre\n",
      "Prediction done for Romantic comedy genre\n"
     ]
    }
   ],
   "source": [
    "from pyspark.ml.classification import LogisticRegression, LinearSVC, LogisticRegressionModel, LinearSVCModel\n",
    "\n",
    "genre_dict = {\n",
    "        0 : 'Drama',\n",
    "        1 : 'Comedy',\n",
    "        2 : 'Romance Film',\n",
    "        3 : 'Thriller',\n",
    "        4 : 'Action',\n",
    "        5 : 'World cinema',\n",
    "        6 : 'Crime Fiction',\n",
    "        7 : 'Horror',\n",
    "        8 : 'Black-and-white',\n",
    "        9 : 'Indie',\n",
    "        10 : 'Action/Adventure',\n",
    "        11 : 'Adventure',\n",
    "        12 : 'Family Film',\n",
    "        13 : 'Short Film',\n",
    "        14 : 'Romantic drama',\n",
    "        15 : 'Animation',\n",
    "        16 : 'Musical',\n",
    "        17 : 'Science Fiction',\n",
    "        18 : 'Mystery',\n",
    "        19 : 'Romantic comedy'\n",
    "    }\n",
    "\n",
    "label_dict = {\n",
    "        0 : 'Drama',\n",
    "        1 : 'Comedy',\n",
    "        2 : 'RomanceFilm',\n",
    "        3 : 'Thriller',\n",
    "        4 : 'Action',\n",
    "        5 : 'WorldCinema',\n",
    "        6 : 'CrimeFiction',\n",
    "        7 : 'Horror',\n",
    "        8 : 'BlackWhite',\n",
    "        9 : 'Indie',\n",
    "        10 : 'ActionAdventure',\n",
    "        11 : 'Adventure',\n",
    "        12 : 'FamilyFilm',\n",
    "        13 : 'ShortFilm',\n",
    "        14 : 'RomanticDrama',\n",
    "        15 : 'Animation',\n",
    "        16 : 'Musical',\n",
    "        17 : 'ScienceFiction',\n",
    "        18 : 'Mystery',\n",
    "        19 : 'RomanticComedy'\n",
    "    }\n",
    "\n",
    "columns_to_drop = ['rawPrediction', 'probability']\n",
    "testData_tf = vectorized_test\n",
    "\n",
    "for i in range(20):\n",
    "    if loadModel:\n",
    "        lrModel_tf = LogisticRegressionModel.load('models/lr_tf/lrModel_tf_' + label_dict[i])\n",
    "    else:\n",
    "        lr_tf = LogisticRegression(featuresCol = 'features_tf', labelCol = label_dict[i], predictionCol = 'pred_' + label_dict[i], maxIter = 20, regParam = 0.3)\n",
    "        lrModel_tf = lr_tf.fit(a)\n",
    "        lrModel_tf.save('lrModel_tf_' + label_dict[i])\n",
    "    \n",
    "    testData_tf = testData_tf.drop(*columns_to_drop)\n",
    "    testData_tf = lrModel_tf.transform(testData_tf)\n",
    "\n",
    "    print('Prediction done for %s genre' %(genre_dict[i]))"
   ]
  },
  {
   "cell_type": "markdown",
   "metadata": {},
   "source": [
    "# UDF for combining 20 predicted labels to 1 column"
   ]
  },
  {
   "cell_type": "code",
   "execution_count": 17,
   "metadata": {},
   "outputs": [],
   "source": [
    "@udf('string')\n",
    "def combineLables(*labels):\n",
    "    temp = [str(int(i)) for i in labels]\n",
    "    return ' '.join(temp)"
   ]
  },
  {
   "cell_type": "code",
   "execution_count": 18,
   "metadata": {},
   "outputs": [
    {
     "data": {
      "text/plain": [
       "[Row(predictions='1 0 0 0 0 0 0 0 0 0 0 0 0 0 0 0 0 0 0 0'),\n",
       " Row(predictions='0 0 0 0 0 0 0 0 0 0 0 0 0 0 0 0 0 0 0 0'),\n",
       " Row(predictions='1 0 0 0 0 0 0 0 0 0 0 0 0 0 0 0 0 0 0 0'),\n",
       " Row(predictions='0 1 0 0 0 0 0 0 0 0 0 0 0 0 0 0 0 0 0 0'),\n",
       " Row(predictions='0 0 0 0 0 0 0 0 0 0 0 0 0 0 0 0 0 0 0 0'),\n",
       " Row(predictions='1 0 0 0 0 0 0 0 0 0 0 0 0 0 0 0 0 0 0 0'),\n",
       " Row(predictions='1 0 0 0 0 0 0 0 0 0 0 0 0 0 0 0 0 0 0 0'),\n",
       " Row(predictions='0 0 0 0 0 0 0 0 0 0 0 0 0 0 0 0 0 0 0 0'),\n",
       " Row(predictions='0 0 0 0 1 0 0 0 0 0 1 0 0 0 0 0 0 0 0 0'),\n",
       " Row(predictions='0 0 0 0 0 0 0 0 0 0 0 0 0 0 0 0 0 0 0 0')]"
      ]
     },
     "execution_count": 18,
     "metadata": {},
     "output_type": "execute_result"
    }
   ],
   "source": [
    "testData_tf = testData_tf.withColumn(\"predictions\", combineLables('pred_Drama', 'pred_Comedy', 'pred_RomanceFilm', 'pred_Thriller', 'pred_Action', 'pred_WorldCinema', 'pred_CrimeFiction', 'pred_Horror', 'pred_BlackWhite', 'pred_Indie', 'pred_ActionAdventure', 'pred_Adventure', 'pred_FamilyFilm', 'pred_ShortFilm', 'pred_RomanticDrama', 'pred_Animation', 'pred_Musical', 'pred_ScienceFiction', 'pred_Mystery', 'pred_RomanticComedy'))\n",
    "testData_tf.select('predictions').head(10)"
   ]
  },
  {
   "cell_type": "code",
   "execution_count": 19,
   "metadata": {},
   "outputs": [
    {
     "name": "stdout",
     "output_type": "stream",
     "text": [
      "root\n",
      " |-- movie_id: long (nullable = true)\n",
      " |-- movie_name: string (nullable = true)\n",
      " |-- plot: string (nullable = true)\n",
      " |-- clean_plot: array (nullable = true)\n",
      " |    |-- element: string (containsNull = true)\n",
      " |-- filtered_plot: array (nullable = true)\n",
      " |    |-- element: string (containsNull = true)\n",
      " |-- features_tf: vector (nullable = true)\n",
      " |-- features_hash: vector (nullable = true)\n",
      " |-- features_tf-idf: vector (nullable = true)\n",
      " |-- features_word2vec: vector (nullable = true)\n",
      " |-- pred_Drama: double (nullable = false)\n",
      " |-- pred_Comedy: double (nullable = false)\n",
      " |-- pred_RomanceFilm: double (nullable = false)\n",
      " |-- pred_Thriller: double (nullable = false)\n",
      " |-- pred_Action: double (nullable = false)\n",
      " |-- pred_WorldCinema: double (nullable = false)\n",
      " |-- pred_CrimeFiction: double (nullable = false)\n",
      " |-- pred_Horror: double (nullable = false)\n",
      " |-- pred_BlackWhite: double (nullable = false)\n",
      " |-- pred_Indie: double (nullable = false)\n",
      " |-- pred_ActionAdventure: double (nullable = false)\n",
      " |-- pred_Adventure: double (nullable = false)\n",
      " |-- pred_FamilyFilm: double (nullable = false)\n",
      " |-- pred_ShortFilm: double (nullable = false)\n",
      " |-- pred_RomanticDrama: double (nullable = false)\n",
      " |-- pred_Animation: double (nullable = false)\n",
      " |-- pred_Musical: double (nullable = false)\n",
      " |-- pred_ScienceFiction: double (nullable = false)\n",
      " |-- pred_Mystery: double (nullable = false)\n",
      " |-- rawPrediction: vector (nullable = true)\n",
      " |-- probability: vector (nullable = true)\n",
      " |-- pred_RomanticComedy: double (nullable = false)\n",
      " |-- predictions: string (nullable = true)\n",
      "\n"
     ]
    }
   ],
   "source": [
    "testData_tf.printSchema()"
   ]
  },
  {
   "cell_type": "code",
   "execution_count": 20,
   "metadata": {},
   "outputs": [],
   "source": [
    "out_tf = testData_tf.select('movie_id', 'predictions')\n",
    "out_tf.write.csv('out_tf', header = True)"
   ]
  },
  {
   "cell_type": "markdown",
   "metadata": {},
   "source": [
    "# Part 2: Logistic regression using tf-idf as features"
   ]
  },
  {
   "cell_type": "code",
   "execution_count": 21,
   "metadata": {},
   "outputs": [
    {
     "name": "stdout",
     "output_type": "stream",
     "text": [
      "Prediction done for Drama genre\n",
      "Prediction done for Comedy genre\n",
      "Prediction done for Romance Film genre\n",
      "Prediction done for Thriller genre\n",
      "Prediction done for Action genre\n",
      "Prediction done for World cinema genre\n",
      "Prediction done for Crime Fiction genre\n",
      "Prediction done for Horror genre\n",
      "Prediction done for Black-and-white genre\n",
      "Prediction done for Indie genre\n",
      "Prediction done for Action/Adventure genre\n",
      "Prediction done for Adventure genre\n",
      "Prediction done for Family Film genre\n",
      "Prediction done for Short Film genre\n",
      "Prediction done for Romantic drama genre\n",
      "Prediction done for Animation genre\n",
      "Prediction done for Musical genre\n",
      "Prediction done for Science Fiction genre\n",
      "Prediction done for Mystery genre\n",
      "Prediction done for Romantic comedy genre\n"
     ]
    }
   ],
   "source": [
    "testData_idf = vectorized_test\n",
    "for i in range(20):\n",
    "    if loadModel:\n",
    "        lrModel_idf = LogisticRegressionModel.load('models/lr_idf/lrModel_idf_' + label_dict[i])\n",
    "    else:\n",
    "        lr_idf = LogisticRegression(featuresCol = 'features_tf-idf', labelCol = label_dict[i], predictionCol = 'pred_' + label_dict[i], maxIter = 20, regParam = 0.3)\n",
    "        lrModel_idf = lr_idf.fit(a)\n",
    "        lrModel_idf.save('lrModel_idf_' + label_dict[i])\n",
    "    \n",
    "    testData_idf = testData_idf.drop(*columns_to_drop)\n",
    "    testData_idf = lrModel_idf.transform(testData_idf)\n",
    "\n",
    "    print('Prediction done for %s genre' %(genre_dict[i]))"
   ]
  },
  {
   "cell_type": "code",
   "execution_count": 22,
   "metadata": {},
   "outputs": [
    {
     "data": {
      "text/plain": [
       "[Row(predictions='1 0 0 0 0 0 0 0 0 0 0 0 0 0 0 0 0 0 0 0'),\n",
       " Row(predictions='1 0 0 0 0 0 0 0 0 0 0 0 0 0 0 0 0 0 0 0'),\n",
       " Row(predictions='1 0 0 0 0 0 0 0 0 0 0 0 0 0 0 0 0 0 0 0'),\n",
       " Row(predictions='0 1 0 0 0 0 0 0 0 0 0 0 0 0 0 0 0 0 0 0'),\n",
       " Row(predictions='0 0 0 0 0 0 0 0 0 0 0 0 0 0 0 0 0 0 0 0'),\n",
       " Row(predictions='1 0 0 0 0 0 0 0 0 0 0 0 0 0 0 0 0 0 0 0'),\n",
       " Row(predictions='1 0 0 0 0 0 0 0 0 0 0 0 0 0 0 0 0 0 0 0'),\n",
       " Row(predictions='0 0 0 0 0 0 0 0 0 0 0 0 0 0 0 0 0 0 0 0'),\n",
       " Row(predictions='0 0 0 0 1 0 0 0 0 0 1 0 0 0 0 0 0 0 0 0'),\n",
       " Row(predictions='0 0 0 0 0 0 0 0 0 0 0 0 0 0 0 0 0 0 0 0')]"
      ]
     },
     "execution_count": 22,
     "metadata": {},
     "output_type": "execute_result"
    }
   ],
   "source": [
    "testData_idf = testData_idf.withColumn(\"predictions\", combineLables('pred_Drama', 'pred_Comedy', 'pred_RomanceFilm', 'pred_Thriller', 'pred_Action', 'pred_WorldCinema', 'pred_CrimeFiction', 'pred_Horror', 'pred_BlackWhite', 'pred_Indie', 'pred_ActionAdventure', 'pred_Adventure', 'pred_FamilyFilm', 'pred_ShortFilm', 'pred_RomanticDrama', 'pred_Animation', 'pred_Musical', 'pred_ScienceFiction', 'pred_Mystery', 'pred_RomanticComedy'))\n",
    "testData_idf.select('predictions').head(10)"
   ]
  },
  {
   "cell_type": "code",
   "execution_count": 23,
   "metadata": {},
   "outputs": [],
   "source": [
    "out_idf = testData_idf.select('movie_id', 'predictions')\n",
    "out_idf.write.csv('out_idf', header = True)"
   ]
  },
  {
   "cell_type": "markdown",
   "metadata": {},
   "source": [
    "# Part 3: Logistic regression using word2vec as features"
   ]
  },
  {
   "cell_type": "code",
   "execution_count": 24,
   "metadata": {},
   "outputs": [
    {
     "name": "stdout",
     "output_type": "stream",
     "text": [
      "Prediction done for Drama genre\n",
      "Prediction done for Comedy genre\n",
      "Prediction done for Romance Film genre\n",
      "Prediction done for Thriller genre\n",
      "Prediction done for Action genre\n",
      "Prediction done for World cinema genre\n",
      "Prediction done for Crime Fiction genre\n",
      "Prediction done for Horror genre\n",
      "Prediction done for Black-and-white genre\n",
      "Prediction done for Indie genre\n",
      "Prediction done for Action/Adventure genre\n",
      "Prediction done for Adventure genre\n",
      "Prediction done for Family Film genre\n",
      "Prediction done for Short Film genre\n",
      "Prediction done for Romantic drama genre\n",
      "Prediction done for Animation genre\n",
      "Prediction done for Musical genre\n",
      "Prediction done for Science Fiction genre\n",
      "Prediction done for Mystery genre\n",
      "Prediction done for Romantic comedy genre\n"
     ]
    }
   ],
   "source": [
    "testData_word2vec = vectorized_test\n",
    "for i in range(20):\n",
    "    if loadModel:\n",
    "        lrModel_word2vec = LogisticRegressionModel.load('models/lr_word2vec/lrModel_word2vec_' + label_dict[i])\n",
    "    else:\n",
    "        lr_word2vec = LogisticRegression(featuresCol = 'features_word2vec', labelCol = label_dict[i], predictionCol = 'pred_' + label_dict[i], maxIter = 20, regParam = 0.3)\n",
    "        lrModel_word2vec = lr_word2vec.fit(a)\n",
    "        lrModel_word2vec.save('lrModel_word2vec_' + label_dict[i])\n",
    "    \n",
    "    testData_word2vec = testData_word2vec.drop(*columns_to_drop)\n",
    "    testData_word2vec = lrModel_word2vec.transform(testData_word2vec)\n",
    "    \n",
    "    print('Prediction done for %s genre' %(genre_dict[i]))"
   ]
  },
  {
   "cell_type": "code",
   "execution_count": 25,
   "metadata": {},
   "outputs": [
    {
     "data": {
      "text/plain": [
       "[Row(predictions='1 0 0 0 0 0 0 0 0 0 0 0 0 0 0 0 0 0 0 0'),\n",
       " Row(predictions='1 0 0 0 0 0 0 0 0 0 0 0 0 0 0 0 0 0 0 0'),\n",
       " Row(predictions='1 0 0 0 0 0 0 0 0 0 0 0 0 0 0 0 0 0 0 0'),\n",
       " Row(predictions='1 0 0 0 0 0 0 0 0 0 0 0 0 0 0 0 0 0 0 0'),\n",
       " Row(predictions='0 0 0 0 1 0 0 0 0 0 0 0 0 0 0 0 0 0 0 0'),\n",
       " Row(predictions='1 0 0 0 0 0 0 0 0 0 0 0 0 0 0 0 0 0 0 0'),\n",
       " Row(predictions='1 0 0 0 0 0 0 0 0 0 0 0 0 0 0 0 0 0 0 0'),\n",
       " Row(predictions='0 1 0 0 0 0 0 0 0 0 0 0 1 0 0 1 0 0 0 0'),\n",
       " Row(predictions='0 0 0 0 1 0 0 0 0 0 0 0 0 0 0 0 0 0 0 0'),\n",
       " Row(predictions='0 1 0 0 0 0 0 0 0 0 0 0 0 1 0 1 0 0 0 0')]"
      ]
     },
     "execution_count": 25,
     "metadata": {},
     "output_type": "execute_result"
    }
   ],
   "source": [
    "testData_word2vec = testData_word2vec.withColumn(\"predictions\", combineLables('pred_Drama', 'pred_Comedy', 'pred_RomanceFilm', 'pred_Thriller', 'pred_Action', 'pred_WorldCinema', 'pred_CrimeFiction', 'pred_Horror', 'pred_BlackWhite', 'pred_Indie', 'pred_ActionAdventure', 'pred_Adventure', 'pred_FamilyFilm', 'pred_ShortFilm', 'pred_RomanticDrama', 'pred_Animation', 'pred_Musical', 'pred_ScienceFiction', 'pred_Mystery', 'pred_RomanticComedy'))\n",
    "testData_word2vec.select('predictions').head(10)"
   ]
  },
  {
   "cell_type": "code",
   "execution_count": 26,
   "metadata": {},
   "outputs": [],
   "source": [
    "out_word2vec = testData_word2vec.select('movie_id', 'predictions')\n",
    "out_word2vec.write.csv('out_word2vec', header = True)"
   ]
  },
  {
   "cell_type": "markdown",
   "metadata": {},
   "source": [
    "# Part 4: SVM using tf-idf as features"
   ]
  },
  {
   "cell_type": "code",
   "execution_count": 27,
   "metadata": {
    "scrolled": false
   },
   "outputs": [
    {
     "name": "stdout",
     "output_type": "stream",
     "text": [
      "Prediction done for Drama genre\n",
      "Prediction done for Comedy genre\n",
      "Prediction done for Romance Film genre\n",
      "Prediction done for Thriller genre\n",
      "Prediction done for Action genre\n",
      "Prediction done for World cinema genre\n",
      "Prediction done for Crime Fiction genre\n",
      "Prediction done for Horror genre\n",
      "Prediction done for Black-and-white genre\n",
      "Prediction done for Indie genre\n",
      "Prediction done for Action/Adventure genre\n",
      "Prediction done for Adventure genre\n",
      "Prediction done for Family Film genre\n",
      "Prediction done for Short Film genre\n",
      "Prediction done for Romantic drama genre\n",
      "Prediction done for Animation genre\n",
      "Prediction done for Musical genre\n",
      "Prediction done for Science Fiction genre\n",
      "Prediction done for Mystery genre\n",
      "Prediction done for Romantic comedy genre\n"
     ]
    }
   ],
   "source": [
    "testData_svm = vectorized_test\n",
    "for i in range(20):\n",
    "    if loadModel:\n",
    "        svmModel = LinearSVCModel.load('models/svm_tf-idf/svmModel_' + label_dict[i])\n",
    "    else:\n",
    "        svm = LinearSVC(featuresCol = 'features_tf-idf', labelCol = label_dict[i], predictionCol = 'pred_' + label_dict[i], maxIter = 20, regParam = 0.3)\n",
    "        svmModel = svm.fit(a)\n",
    "        svmModel.save('svmModel_' + label_dict[i])\n",
    "    \n",
    "    testData_svm = testData_svm.drop(*columns_to_drop)\n",
    "    testData_svm = svmModel.transform(testData_svm)\n",
    "    \n",
    "    print('Prediction done for %s genre' %(genre_dict[i]))"
   ]
  },
  {
   "cell_type": "code",
   "execution_count": 28,
   "metadata": {},
   "outputs": [
    {
     "data": {
      "text/plain": [
       "[Row(predictions='1 0 0 0 0 0 0 0 0 0 0 0 0 0 0 0 0 0 0 0'),\n",
       " Row(predictions='1 0 0 0 0 0 0 0 0 0 0 0 0 0 0 0 0 0 0 0'),\n",
       " Row(predictions='1 0 0 0 0 0 0 0 0 0 0 0 0 0 0 0 0 0 0 0'),\n",
       " Row(predictions='0 1 0 0 0 0 0 0 0 0 0 0 0 0 0 0 0 0 0 0'),\n",
       " Row(predictions='0 0 0 0 0 0 0 0 0 0 0 0 0 0 0 0 0 0 0 0'),\n",
       " Row(predictions='1 0 0 0 0 0 0 0 0 0 0 0 0 0 0 0 0 0 0 0'),\n",
       " Row(predictions='1 0 0 0 0 0 0 0 0 0 0 0 0 0 0 0 0 0 0 0'),\n",
       " Row(predictions='0 0 0 0 0 0 0 0 0 0 0 0 0 0 0 0 0 0 0 0'),\n",
       " Row(predictions='0 0 0 0 1 0 0 0 0 0 1 0 0 0 0 0 0 0 0 0'),\n",
       " Row(predictions='0 0 0 0 0 0 0 0 0 0 0 0 0 1 0 1 0 0 0 0')]"
      ]
     },
     "execution_count": 28,
     "metadata": {},
     "output_type": "execute_result"
    }
   ],
   "source": [
    "testData_svm = testData_svm.withColumn(\"predictions\", combineLables('pred_Drama', 'pred_Comedy', 'pred_RomanceFilm', 'pred_Thriller', 'pred_Action', 'pred_WorldCinema', 'pred_CrimeFiction', 'pred_Horror', 'pred_BlackWhite', 'pred_Indie', 'pred_ActionAdventure', 'pred_Adventure', 'pred_FamilyFilm', 'pred_ShortFilm', 'pred_RomanticDrama', 'pred_Animation', 'pred_Musical', 'pred_ScienceFiction', 'pred_Mystery', 'pred_RomanticComedy'))\n",
    "testData_svm.select('predictions').head(10)"
   ]
  },
  {
   "cell_type": "code",
   "execution_count": 29,
   "metadata": {},
   "outputs": [],
   "source": [
    "out_svm = testData_svm.select('movie_id', 'predictions')\n",
    "out_svm.write.csv('out_svm', header = True)"
   ]
  },
  {
   "cell_type": "code",
   "execution_count": null,
   "metadata": {},
   "outputs": [],
   "source": []
  }
 ],
 "metadata": {
  "kernelspec": {
   "display_name": "Python 3",
   "language": "python",
   "name": "python3"
  },
  "language_info": {
   "codemirror_mode": {
    "name": "ipython",
    "version": 3
   },
   "file_extension": ".py",
   "mimetype": "text/x-python",
   "name": "python",
   "nbconvert_exporter": "python",
   "pygments_lexer": "ipython3",
   "version": "3.6.8"
  }
 },
 "nbformat": 4,
 "nbformat_minor": 2
}
